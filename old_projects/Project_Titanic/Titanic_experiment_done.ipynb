{
 "cells": [
  {
   "cell_type": "markdown",
   "metadata": {},
   "source": [
    "# Tiatnic_experiment "
   ]
  },
  {
   "cell_type": "markdown",
   "metadata": {},
   "source": [
    "We are gonna start with importing libraries"
   ]
  },
  {
   "cell_type": "code",
   "execution_count": 1,
   "metadata": {},
   "outputs": [],
   "source": [
    "import pandas as pd\n",
    "\n",
    "from sklearn.tree import DecisionTreeClassifier    #decision tree classification\n",
    "from sklearn.ensemble import RandomForestClassifier    #random forest (more than 1 decision tree)\n",
    "from sklearn.ensemble import ExtraTreesClassifier  \n",
    "from sklearn.model_selection import train_test_split    #spliting data for test and train part\n",
    "from sklearn.metrics import accuracy_score    #measuring model accuracy"
   ]
  },
  {
   "cell_type": "markdown",
   "metadata": {},
   "source": [
    "Read the data\n",
    "\n"
   ]
  },
  {
   "cell_type": "code",
   "execution_count": 3,
   "metadata": {},
   "outputs": [
    {
     "data": {
      "text/html": [
       "<div>\n",
       "<style scoped>\n",
       "    .dataframe tbody tr th:only-of-type {\n",
       "        vertical-align: middle;\n",
       "    }\n",
       "\n",
       "    .dataframe tbody tr th {\n",
       "        vertical-align: top;\n",
       "    }\n",
       "\n",
       "    .dataframe thead th {\n",
       "        text-align: right;\n",
       "    }\n",
       "</style>\n",
       "<table border=\"1\" class=\"dataframe\">\n",
       "  <thead>\n",
       "    <tr style=\"text-align: right;\">\n",
       "      <th></th>\n",
       "      <th>PassengerId</th>\n",
       "      <th>Survived</th>\n",
       "      <th>Pclass</th>\n",
       "      <th>Name</th>\n",
       "      <th>Sex</th>\n",
       "      <th>Age</th>\n",
       "      <th>SibSp</th>\n",
       "      <th>Parch</th>\n",
       "      <th>Ticket</th>\n",
       "      <th>Fare</th>\n",
       "      <th>Cabin</th>\n",
       "      <th>Embarked</th>\n",
       "    </tr>\n",
       "  </thead>\n",
       "  <tbody>\n",
       "    <tr>\n",
       "      <td>525</td>\n",
       "      <td>526</td>\n",
       "      <td>0</td>\n",
       "      <td>3</td>\n",
       "      <td>Farrell, Mr. James</td>\n",
       "      <td>male</td>\n",
       "      <td>40.5</td>\n",
       "      <td>0</td>\n",
       "      <td>0</td>\n",
       "      <td>367232</td>\n",
       "      <td>7.750</td>\n",
       "      <td>NaN</td>\n",
       "      <td>Q</td>\n",
       "    </tr>\n",
       "    <tr>\n",
       "      <td>470</td>\n",
       "      <td>471</td>\n",
       "      <td>0</td>\n",
       "      <td>3</td>\n",
       "      <td>Keefe, Mr. Arthur</td>\n",
       "      <td>male</td>\n",
       "      <td>NaN</td>\n",
       "      <td>0</td>\n",
       "      <td>0</td>\n",
       "      <td>323592</td>\n",
       "      <td>7.250</td>\n",
       "      <td>NaN</td>\n",
       "      <td>S</td>\n",
       "    </tr>\n",
       "    <tr>\n",
       "      <td>588</td>\n",
       "      <td>589</td>\n",
       "      <td>0</td>\n",
       "      <td>3</td>\n",
       "      <td>Gilinski, Mr. Eliezer</td>\n",
       "      <td>male</td>\n",
       "      <td>22.0</td>\n",
       "      <td>0</td>\n",
       "      <td>0</td>\n",
       "      <td>14973</td>\n",
       "      <td>8.050</td>\n",
       "      <td>NaN</td>\n",
       "      <td>S</td>\n",
       "    </tr>\n",
       "    <tr>\n",
       "      <td>62</td>\n",
       "      <td>63</td>\n",
       "      <td>0</td>\n",
       "      <td>1</td>\n",
       "      <td>Harris, Mr. Henry Birkhardt</td>\n",
       "      <td>male</td>\n",
       "      <td>45.0</td>\n",
       "      <td>1</td>\n",
       "      <td>0</td>\n",
       "      <td>36973</td>\n",
       "      <td>83.475</td>\n",
       "      <td>C83</td>\n",
       "      <td>S</td>\n",
       "    </tr>\n",
       "    <tr>\n",
       "      <td>142</td>\n",
       "      <td>143</td>\n",
       "      <td>1</td>\n",
       "      <td>3</td>\n",
       "      <td>Hakkarainen, Mrs. Pekka Pietari (Elin Matilda ...</td>\n",
       "      <td>female</td>\n",
       "      <td>24.0</td>\n",
       "      <td>1</td>\n",
       "      <td>0</td>\n",
       "      <td>STON/O2. 3101279</td>\n",
       "      <td>15.850</td>\n",
       "      <td>NaN</td>\n",
       "      <td>S</td>\n",
       "    </tr>\n",
       "    <tr>\n",
       "      <td>668</td>\n",
       "      <td>669</td>\n",
       "      <td>0</td>\n",
       "      <td>3</td>\n",
       "      <td>Cook, Mr. Jacob</td>\n",
       "      <td>male</td>\n",
       "      <td>43.0</td>\n",
       "      <td>0</td>\n",
       "      <td>0</td>\n",
       "      <td>A/5 3536</td>\n",
       "      <td>8.050</td>\n",
       "      <td>NaN</td>\n",
       "      <td>S</td>\n",
       "    </tr>\n",
       "    <tr>\n",
       "      <td>545</td>\n",
       "      <td>546</td>\n",
       "      <td>0</td>\n",
       "      <td>1</td>\n",
       "      <td>Nicholson, Mr. Arthur Ernest</td>\n",
       "      <td>male</td>\n",
       "      <td>64.0</td>\n",
       "      <td>0</td>\n",
       "      <td>0</td>\n",
       "      <td>693</td>\n",
       "      <td>26.000</td>\n",
       "      <td>NaN</td>\n",
       "      <td>S</td>\n",
       "    </tr>\n",
       "  </tbody>\n",
       "</table>\n",
       "</div>"
      ],
      "text/plain": [
       "     PassengerId  Survived  Pclass  \\\n",
       "525          526         0       3   \n",
       "470          471         0       3   \n",
       "588          589         0       3   \n",
       "62            63         0       1   \n",
       "142          143         1       3   \n",
       "668          669         0       3   \n",
       "545          546         0       1   \n",
       "\n",
       "                                                  Name     Sex   Age  SibSp  \\\n",
       "525                                 Farrell, Mr. James    male  40.5      0   \n",
       "470                                  Keefe, Mr. Arthur    male   NaN      0   \n",
       "588                              Gilinski, Mr. Eliezer    male  22.0      0   \n",
       "62                         Harris, Mr. Henry Birkhardt    male  45.0      1   \n",
       "142  Hakkarainen, Mrs. Pekka Pietari (Elin Matilda ...  female  24.0      1   \n",
       "668                                    Cook, Mr. Jacob    male  43.0      0   \n",
       "545                       Nicholson, Mr. Arthur Ernest    male  64.0      0   \n",
       "\n",
       "     Parch            Ticket    Fare Cabin Embarked  \n",
       "525      0            367232   7.750   NaN        Q  \n",
       "470      0            323592   7.250   NaN        S  \n",
       "588      0             14973   8.050   NaN        S  \n",
       "62       0             36973  83.475   C83        S  \n",
       "142      0  STON/O2. 3101279  15.850   NaN        S  \n",
       "668      0          A/5 3536   8.050   NaN        S  \n",
       "545      0               693  26.000   NaN        S  "
      ]
     },
     "execution_count": 3,
     "metadata": {},
     "output_type": "execute_result"
    }
   ],
   "source": [
    "path = \"input_data/train.csv\"\n",
    "\n",
    "df = pd.read_csv(path)\n",
    "df.sample(7)\n"
   ]
  },
  {
   "cell_type": "markdown",
   "metadata": {},
   "source": [
    "# Lets have some fun! \n",
    "\n",
    "Do you remember how to \"download\" the project form github?"
   ]
  },
  {
   "cell_type": "raw",
   "metadata": {},
   "source": [
    " $ git clone https://github.com/"
   ]
  },
  {
   "cell_type": "raw",
   "metadata": {},
   "source": [
    "The most important git command is.....       $ git status"
   ]
  },
  {
   "cell_type": "markdown",
   "metadata": {},
   "source": [
    "# Lets prepare data"
   ]
  },
  {
   "cell_type": "code",
   "execution_count": 4,
   "metadata": {},
   "outputs": [],
   "source": [
    "feats = ['Pclass']    #list of features\n",
    "X = df[feats].values    # matrix of single element list which is \"class\"\n",
    "y = df['Survived'].values    # answer => isAlive"
   ]
  },
  {
   "cell_type": "markdown",
   "metadata": {},
   "source": [
    "Spliting data into a test and training set using sklearn lib"
   ]
  },
  {
   "cell_type": "code",
   "execution_count": 5,
   "metadata": {},
   "outputs": [],
   "source": [
    "X_train, X_test, y_train, y_test = train_test_split(X, y, test_size = 0.3)    # test size is 30%"
   ]
  },
  {
   "cell_type": "code",
   "execution_count": 6,
   "metadata": {},
   "outputs": [
    {
     "data": {
      "text/plain": [
       "((623, 1), (268, 1))"
      ]
     },
     "execution_count": 6,
     "metadata": {},
     "output_type": "execute_result"
    }
   ],
   "source": [
    "#how much data do we have?\n",
    "\n",
    "X_train.shape, X_test.shape"
   ]
  },
  {
   "cell_type": "markdown",
   "metadata": {},
   "source": [
    "# And now we are gonna build our model"
   ]
  },
  {
   "cell_type": "code",
   "execution_count": 7,
   "metadata": {},
   "outputs": [
    {
     "name": "stdout",
     "output_type": "stream",
     "text": [
      "Score: 0.65\n"
     ]
    }
   ],
   "source": [
    "dec_tree_model = DecisionTreeClassifier(max_depth=10)\n",
    "\n",
    "#finally fitting model\n",
    "dec_tree_model.fit(X_train, y_train)\n",
    "y_pred = dec_tree_model.predict(X_test)\n",
    "\n",
    "dec_tree_score = accuracy_score(y_test, y_pred)    # comparing right answer and our prediction answer\n",
    "print(\"Score: %.2f\" % dec_tree_score)"
   ]
  },
  {
   "cell_type": "markdown",
   "metadata": {},
   "source": [
    "# 64,5%.. Very impressive, but...\n",
    "\n"
   ]
  },
  {
   "cell_type": "markdown",
   "metadata": {},
   "source": [
    "Can we improve our model..?\n",
    "\n",
    "\n",
    "\n",
    "Ofcourse we can! Lets add moore parameters \n"
   ]
  },
  {
   "cell_type": "markdown",
   "metadata": {},
   "source": [
    "In our case, sex is very important parameter. But we have \"male\" and \"female\", how to use it?\n",
    "We need to factolize them to one and zero "
   ]
  },
  {
   "cell_type": "code",
   "execution_count": 8,
   "metadata": {},
   "outputs": [
    {
     "data": {
      "text/html": [
       "<div>\n",
       "<style scoped>\n",
       "    .dataframe tbody tr th:only-of-type {\n",
       "        vertical-align: middle;\n",
       "    }\n",
       "\n",
       "    .dataframe tbody tr th {\n",
       "        vertical-align: top;\n",
       "    }\n",
       "\n",
       "    .dataframe thead th {\n",
       "        text-align: right;\n",
       "    }\n",
       "</style>\n",
       "<table border=\"1\" class=\"dataframe\">\n",
       "  <thead>\n",
       "    <tr style=\"text-align: right;\">\n",
       "      <th></th>\n",
       "      <th>PassengerId</th>\n",
       "      <th>Survived</th>\n",
       "      <th>Pclass</th>\n",
       "      <th>Name</th>\n",
       "      <th>Sex</th>\n",
       "      <th>Age</th>\n",
       "      <th>SibSp</th>\n",
       "      <th>Parch</th>\n",
       "      <th>Ticket</th>\n",
       "      <th>Fare</th>\n",
       "      <th>Cabin</th>\n",
       "      <th>Embarked</th>\n",
       "      <th>Sex_categorical</th>\n",
       "    </tr>\n",
       "  </thead>\n",
       "  <tbody>\n",
       "    <tr>\n",
       "      <td>64</td>\n",
       "      <td>65</td>\n",
       "      <td>0</td>\n",
       "      <td>1</td>\n",
       "      <td>Stewart, Mr. Albert A</td>\n",
       "      <td>male</td>\n",
       "      <td>NaN</td>\n",
       "      <td>0</td>\n",
       "      <td>0</td>\n",
       "      <td>PC 17605</td>\n",
       "      <td>27.7208</td>\n",
       "      <td>NaN</td>\n",
       "      <td>C</td>\n",
       "      <td>0</td>\n",
       "    </tr>\n",
       "    <tr>\n",
       "      <td>834</td>\n",
       "      <td>835</td>\n",
       "      <td>0</td>\n",
       "      <td>3</td>\n",
       "      <td>Allum, Mr. Owen George</td>\n",
       "      <td>male</td>\n",
       "      <td>18.0</td>\n",
       "      <td>0</td>\n",
       "      <td>0</td>\n",
       "      <td>2223</td>\n",
       "      <td>8.3000</td>\n",
       "      <td>NaN</td>\n",
       "      <td>S</td>\n",
       "      <td>0</td>\n",
       "    </tr>\n",
       "    <tr>\n",
       "      <td>362</td>\n",
       "      <td>363</td>\n",
       "      <td>0</td>\n",
       "      <td>3</td>\n",
       "      <td>Barbara, Mrs. (Catherine David)</td>\n",
       "      <td>female</td>\n",
       "      <td>45.0</td>\n",
       "      <td>0</td>\n",
       "      <td>1</td>\n",
       "      <td>2691</td>\n",
       "      <td>14.4542</td>\n",
       "      <td>NaN</td>\n",
       "      <td>C</td>\n",
       "      <td>1</td>\n",
       "    </tr>\n",
       "    <tr>\n",
       "      <td>756</td>\n",
       "      <td>757</td>\n",
       "      <td>0</td>\n",
       "      <td>3</td>\n",
       "      <td>Carlsson, Mr. August Sigfrid</td>\n",
       "      <td>male</td>\n",
       "      <td>28.0</td>\n",
       "      <td>0</td>\n",
       "      <td>0</td>\n",
       "      <td>350042</td>\n",
       "      <td>7.7958</td>\n",
       "      <td>NaN</td>\n",
       "      <td>S</td>\n",
       "      <td>0</td>\n",
       "    </tr>\n",
       "    <tr>\n",
       "      <td>856</td>\n",
       "      <td>857</td>\n",
       "      <td>1</td>\n",
       "      <td>1</td>\n",
       "      <td>Wick, Mrs. George Dennick (Mary Hitchcock)</td>\n",
       "      <td>female</td>\n",
       "      <td>45.0</td>\n",
       "      <td>1</td>\n",
       "      <td>1</td>\n",
       "      <td>36928</td>\n",
       "      <td>164.8667</td>\n",
       "      <td>NaN</td>\n",
       "      <td>S</td>\n",
       "      <td>1</td>\n",
       "    </tr>\n",
       "    <tr>\n",
       "      <td>652</td>\n",
       "      <td>653</td>\n",
       "      <td>0</td>\n",
       "      <td>3</td>\n",
       "      <td>Kalvik, Mr. Johannes Halvorsen</td>\n",
       "      <td>male</td>\n",
       "      <td>21.0</td>\n",
       "      <td>0</td>\n",
       "      <td>0</td>\n",
       "      <td>8475</td>\n",
       "      <td>8.4333</td>\n",
       "      <td>NaN</td>\n",
       "      <td>S</td>\n",
       "      <td>0</td>\n",
       "    </tr>\n",
       "    <tr>\n",
       "      <td>326</td>\n",
       "      <td>327</td>\n",
       "      <td>0</td>\n",
       "      <td>3</td>\n",
       "      <td>Nysveen, Mr. Johan Hansen</td>\n",
       "      <td>male</td>\n",
       "      <td>61.0</td>\n",
       "      <td>0</td>\n",
       "      <td>0</td>\n",
       "      <td>345364</td>\n",
       "      <td>6.2375</td>\n",
       "      <td>NaN</td>\n",
       "      <td>S</td>\n",
       "      <td>0</td>\n",
       "    </tr>\n",
       "    <tr>\n",
       "      <td>54</td>\n",
       "      <td>55</td>\n",
       "      <td>0</td>\n",
       "      <td>1</td>\n",
       "      <td>Ostby, Mr. Engelhart Cornelius</td>\n",
       "      <td>male</td>\n",
       "      <td>65.0</td>\n",
       "      <td>0</td>\n",
       "      <td>1</td>\n",
       "      <td>113509</td>\n",
       "      <td>61.9792</td>\n",
       "      <td>B30</td>\n",
       "      <td>C</td>\n",
       "      <td>0</td>\n",
       "    </tr>\n",
       "    <tr>\n",
       "      <td>394</td>\n",
       "      <td>395</td>\n",
       "      <td>1</td>\n",
       "      <td>3</td>\n",
       "      <td>Sandstrom, Mrs. Hjalmar (Agnes Charlotta Bengt...</td>\n",
       "      <td>female</td>\n",
       "      <td>24.0</td>\n",
       "      <td>0</td>\n",
       "      <td>2</td>\n",
       "      <td>PP 9549</td>\n",
       "      <td>16.7000</td>\n",
       "      <td>G6</td>\n",
       "      <td>S</td>\n",
       "      <td>1</td>\n",
       "    </tr>\n",
       "    <tr>\n",
       "      <td>263</td>\n",
       "      <td>264</td>\n",
       "      <td>0</td>\n",
       "      <td>1</td>\n",
       "      <td>Harrison, Mr. William</td>\n",
       "      <td>male</td>\n",
       "      <td>40.0</td>\n",
       "      <td>0</td>\n",
       "      <td>0</td>\n",
       "      <td>112059</td>\n",
       "      <td>0.0000</td>\n",
       "      <td>B94</td>\n",
       "      <td>S</td>\n",
       "      <td>0</td>\n",
       "    </tr>\n",
       "  </tbody>\n",
       "</table>\n",
       "</div>"
      ],
      "text/plain": [
       "     PassengerId  Survived  Pclass  \\\n",
       "64            65         0       1   \n",
       "834          835         0       3   \n",
       "362          363         0       3   \n",
       "756          757         0       3   \n",
       "856          857         1       1   \n",
       "652          653         0       3   \n",
       "326          327         0       3   \n",
       "54            55         0       1   \n",
       "394          395         1       3   \n",
       "263          264         0       1   \n",
       "\n",
       "                                                  Name     Sex   Age  SibSp  \\\n",
       "64                               Stewart, Mr. Albert A    male   NaN      0   \n",
       "834                             Allum, Mr. Owen George    male  18.0      0   \n",
       "362                    Barbara, Mrs. (Catherine David)  female  45.0      0   \n",
       "756                       Carlsson, Mr. August Sigfrid    male  28.0      0   \n",
       "856         Wick, Mrs. George Dennick (Mary Hitchcock)  female  45.0      1   \n",
       "652                     Kalvik, Mr. Johannes Halvorsen    male  21.0      0   \n",
       "326                          Nysveen, Mr. Johan Hansen    male  61.0      0   \n",
       "54                      Ostby, Mr. Engelhart Cornelius    male  65.0      0   \n",
       "394  Sandstrom, Mrs. Hjalmar (Agnes Charlotta Bengt...  female  24.0      0   \n",
       "263                              Harrison, Mr. William    male  40.0      0   \n",
       "\n",
       "     Parch    Ticket      Fare Cabin Embarked  Sex_categorical  \n",
       "64       0  PC 17605   27.7208   NaN        C                0  \n",
       "834      0      2223    8.3000   NaN        S                0  \n",
       "362      1      2691   14.4542   NaN        C                1  \n",
       "756      0    350042    7.7958   NaN        S                0  \n",
       "856      1     36928  164.8667   NaN        S                1  \n",
       "652      0      8475    8.4333   NaN        S                0  \n",
       "326      0    345364    6.2375   NaN        S                0  \n",
       "54       1    113509   61.9792   B30        C                0  \n",
       "394      2   PP 9549   16.7000    G6        S                1  \n",
       "263      0    112059    0.0000   B94        S                0  "
      ]
     },
     "execution_count": 8,
     "metadata": {},
     "output_type": "execute_result"
    }
   ],
   "source": [
    "df['Sex_categorical'] = df['Sex'].factorize()[0]\n",
    "df.sample(10)"
   ]
  },
  {
   "cell_type": "code",
   "execution_count": 9,
   "metadata": {},
   "outputs": [],
   "source": [
    "feats = ['Pclass', 'Sex_categorical']\n",
    "X = df[feats].values    # matrix of elements list which is \"class\"\n",
    "y = df['Survived'].values    # answer => isAlive"
   ]
  },
  {
   "cell_type": "code",
   "execution_count": 12,
   "metadata": {},
   "outputs": [
    {
     "name": "stdout",
     "output_type": "stream",
     "text": [
      "Score: 0.78\n"
     ]
    }
   ],
   "source": [
    "more_features_model = DecisionTreeClassifier(max_depth=10)\n",
    "\n",
    "#spritting data\n",
    "X_train, X_test, y_train, y_test = train_test_split(X, y, test_size = 0.3)    # test size is 30%\n",
    "\n",
    "\n",
    "#fitting model\n",
    "more_features_model.fit(X_train, y_train)\n",
    "y_pred = more_features_model.predict(X_test)\n",
    "\n",
    "more_features_score = accuracy_score(y_test, y_pred)    # comparing right answer and our prediction answer\n",
    "print(\"Score: %.2f\" % more_features_score)"
   ]
  },
  {
   "cell_type": "markdown",
   "metadata": {},
   "source": [
    "# Pretty nice! 78% \n",
    "\n",
    "Lets try another algorythm "
   ]
  },
  {
   "cell_type": "code",
   "execution_count": 13,
   "metadata": {},
   "outputs": [
    {
     "name": "stdout",
     "output_type": "stream",
     "text": [
      "Score: 0.79\n"
     ]
    }
   ],
   "source": [
    "extra_trees_model = ExtraTreesClassifier(max_depth=10, n_estimators=20, n_jobs=15)\n",
    "\n",
    "#splitting data\n",
    "X_train, X_test, y_train, y_test = train_test_split(X, y, test_size = 0.3)    # test size is 30%\n",
    "\n",
    "\n",
    "#fitting model\n",
    "extra_trees_model.fit(X_train, y_train)\n",
    "y_pred = extra_trees_model.predict(X_test)\n",
    "\n",
    "extra_trees_score = accuracy_score(y_test, y_pred)    # comparing right answer and our prediction answer\n",
    "print(\"Score: %.2f\" % extra_trees_score)"
   ]
  },
  {
   "cell_type": "markdown",
   "metadata": {},
   "source": [
    "# Actually.. Nothing change..  Maybe we should try feature engineering? \n",
    "\n"
   ]
  },
  {
   "cell_type": "markdown",
   "metadata": {},
   "source": [
    "# But this is subject for another time..!"
   ]
  },
  {
   "cell_type": "code",
   "execution_count": null,
   "metadata": {},
   "outputs": [],
   "source": []
  }
 ],
 "metadata": {
  "kernelspec": {
   "display_name": "Python 3",
   "language": "python",
   "name": "python3"
  },
  "language_info": {
   "codemirror_mode": {
    "name": "ipython",
    "version": 3
   },
   "file_extension": ".py",
   "mimetype": "text/x-python",
   "name": "python",
   "nbconvert_exporter": "python",
   "pygments_lexer": "ipython3",
   "version": "3.7.4"
  }
 },
 "nbformat": 4,
 "nbformat_minor": 2
}
